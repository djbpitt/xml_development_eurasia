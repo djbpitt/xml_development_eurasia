{
 "cells": [
  {
   "cell_type": "markdown",
   "metadata": {},
   "source": [
    "# Custom Markdown Parser\n",
    "\n",
    "Inputs markdown, outputs XML based on a custom schema using regex."
   ]
  },
  {
   "cell_type": "markdown",
   "metadata": {},
   "source": [
    "Next steps:\n",
    "- Code batch processing (i.e. open all files in one directory, output to another).\n",
    "- Automate transfer of process files to new directory to simplify workflow."
   ]
  },
  {
   "cell_type": "code",
   "execution_count": 196,
   "metadata": {},
   "outputs": [],
   "source": [
    "# Notes on Version 2 (From General Hanley):\n",
    "\n",
    "# Advocates transcending the \"line-by-line approach\":\n",
    "# If you give re.sub the flags=re.MULTILINE option, then ^ and $ will match the\n",
    "# beginning and end of lines, rather than the whole string. That way you\n",
    "# can do it for the whole file at once. This should in principle be faster too."
   ]
  },
  {
   "cell_type": "code",
   "execution_count": 126,
   "metadata": {},
   "outputs": [],
   "source": [
    "import re, os, os.path, shutil\n",
    "\n",
    "# custom functions:\n",
    "\n",
    "import parser_functions as pf"
   ]
  },
  {
   "cell_type": "markdown",
   "metadata": {},
   "source": [
    "### File Paths"
   ]
  },
  {
   "cell_type": "markdown",
   "metadata": {},
   "source": [
    "Nice [[explanation of using the os library]](https://automatetheboringstuff.com/chapter8/)."
   ]
  },
  {
   "cell_type": "code",
   "execution_count": 127,
   "metadata": {},
   "outputs": [
    {
     "name": "stdout",
     "output_type": "stream",
     "text": [
      "Files currently in input folder  /Users/kribblesworth/Box/Notes/Primary_Sources :\n"
     ]
    },
    {
     "data": {
      "text/plain": [
       "['archive_docs_now_at_xml_stage_do_not_use',\n",
       " 'document_conversion_backlog',\n",
       " 'parser_output.xml',\n",
       " 'ser560.txt',\n",
       " 'ser560.xml',\n",
       " 'ser72.md',\n",
       " 'ser808.md',\n",
       " 'ser809.md',\n",
       " 'ser811.md',\n",
       " 'ser812.md',\n",
       " 'ser813.md',\n",
       " 'ser814.md',\n",
       " 'ser815.md',\n",
       " 'ser816.md',\n",
       " 'ser817.md',\n",
       " 'ser818.md',\n",
       " 'ser842.md',\n",
       " 'ser843.md',\n",
       " 'ser857.md',\n",
       " 'ser876.md',\n",
       " 'ser877.md']"
      ]
     },
     "execution_count": 127,
     "metadata": {},
     "output_type": "execute_result"
    }
   ],
   "source": [
    "hdir = os.path.expanduser('~')\n",
    "md_rel_path = \"/Box/Notes/Primary_Sources/transcription_markdown_drafting_stage1\"\n",
    "md_path = hdir + md_rel_path\n",
    "\n",
    "xml_rel_path = r\"/Box/Notes/Primary_sources/xml_notes_stage2/parser_depository\"\n",
    "xml_path = hdir + xml_rel_path\n",
    "\n",
    "archive_rel_path = \"/Box/Notes/Primary_Sources/transcription_markdown_drafting_stage1/archive_docs_now_at_xml_stage_do_not_use\"\n",
    "archive_path = hdir + archive_rel_path\n",
    "\n",
    "print (\"Files currently in input folder \", os.path.dirname(md_path), \":\")\n",
    "os.listdir(md_path)\n"
   ]
  },
  {
   "cell_type": "code",
   "execution_count": 128,
   "metadata": {
    "scrolled": true
   },
   "outputs": [
    {
     "name": "stdout",
     "output_type": "stream",
     "text": [
      "Files currently in destination folder  /Users/kribblesworth/Box/Notes/Primary_sources/xml_notes_stage2 :\n"
     ]
    },
    {
     "data": {
      "text/plain": [
       "['i126-1-1904-5_ser596.txt', 'i126-1-1951_ser626.txt', 'ser706.txt']"
      ]
     },
     "execution_count": 128,
     "metadata": {},
     "output_type": "execute_result"
    }
   ],
   "source": [
    "print (\"Files currently in destination folder \", os.path.dirname(xml_path), \":\")\n",
    "\n",
    "os.listdir(xml_path)"
   ]
  },
  {
   "cell_type": "markdown",
   "metadata": {},
   "source": [
    "## The Parser"
   ]
  },
  {
   "cell_type": "code",
   "execution_count": 91,
   "metadata": {},
   "outputs": [
    {
     "name": "stdout",
     "output_type": "stream",
     "text": [
      "<?xml-model href=\"/Users/Enkidu/Documents/digital_humanities/xml_development/schemas/persian_documents_schema_basic.rnc\" type=\"application/relax-ng-compact-syntax\"?>\n",
      "    <document serial = \"560\">\n",
      "    \t\n",
      "\t<div> \n",
      "\t\n",
      "\t\n",
      "\t<!-- Model MarkDown document with new schema. -->\n",
      "\t\n",
      "\t\\# \n",
      "\t\n",
      "\t\\#\\# \n",
      "\t<!-- top marginalia -->\n",
      "\t\n",
      "\t\t<lb/>جناب <flag>عالیحضرتمولایم</flag> الله ظله\n",
      "\t\t<lb/>جناب شریعت و شرافت امارت و وزارتپناهان\n",
      "\t\t<lb/>دام عافیتکم\n",
      "\t\n",
      "\t\\#\\# \n",
      "\t<!-- vertical section -->\n",
      "\t<!-- beginning of honorific section -->\n",
      "\t\n",
      "\t\t<lb/>روزی و نصیب آنشریعت و شرافت و وزارتپناهان\n",
      "\t\t<lb/>رفعت و منزلت جایگاهان دولت و حکومت و دستگاهان\n",
      "\t\t<lb/>بوده باد بعد از اظهار مراهم دعا بوده میدارت که\n",
      "\t\t<lb/>الله الحمد و المنه بمهربانی و شرفدولت خداداد ؟ مراتب حالات\n",
      "\t\t<lb/>قرین شکر و رضا بوده همواره سلامتی و تعالی\n",
      "\t\t<lb/>و عافیت مندی آنمرحمت پناهان مراعات\n",
      "\t\n",
      "\t\\#\\# \n",
      "\t<!-- diagonal right section -->\n",
      "\t\n",
      "\t\t<lb/>بقیه السلام آنکه \n",
      "\t\t<lb/>آصف <flag>مقامانا</flag> چنانچه مهربانی خداندی\n",
      "\t\t<lb/>در کف های دعای از تحت رکوبی چیزی برامده همرنگ بدن ورم کرده \n",
      "\t<!-- beginning of content -->\n",
      "\t\t<lb/>مدت دوازده روز میشود که از پای ما مانده است که جنبانیده تا بواسته خواب گردیم\n",
      "\t\t<lb/>چندین حکیمها آمده دیده <flag>پاسخ</flag> علاجی کرده نتوانستند عین وقت خدمت دولتخانه عالی\n",
      "\t\t<lb/>میباشد بنابران بخذمت ذی شفرها شان ؟ ؟ ؟ شد که اگر مهربانی نموده\n",
      "\t\t<lb/>دختور را فرستانند آمده بیند شاید که خداوند عالی او را بشرف دعا و توجه جنابهاشان\n",
      "\t\t<lb/>؟ گردانیده دعای از ایندرو عافیت یافته زود تر در بالالی خذمت دولتخانه برایم\n",
      "\t\t<lb/>دیگر بدعا بوده از دعای اجابت قرینها شان امیدواریست زیاده آیام بکام ؟ دولت مدام باد باقی\n",
      "\t\t<lb/>السلام و الاکرام\n",
      "    </document>\n"
     ]
    }
   ],
   "source": [
    "# Making sure in correct directory:\n",
    "os.chdir(md_path)\n",
    "\n",
    "# Test if it is all functioning properly:\n",
    "print (pf.parse_md('ser560.txt'))\n"
   ]
  },
  {
   "cell_type": "markdown",
   "metadata": {},
   "source": [
    "### Run parser on every file in the input directory, copy to output directory"
   ]
  },
  {
   "cell_type": "code",
   "execution_count": 115,
   "metadata": {},
   "outputs": [
    {
     "name": "stdout",
     "output_type": "stream",
     "text": [
      "<?xml-model href=\"/Users/Enkidu/Documents/digital_humanities/xml_development/schemas/persian_documents_schema_basic.rnc\" type=\"application/relax-ng-compact-syntax\"?>\n",
      "    <document serial = \"560\">\n",
      "    \t\n",
      "\t<div> \n",
      "\t\n",
      "\t\n",
      "\t<!-- Model MarkDown document with new schema. -->\n",
      "\t\n",
      "\t\\# \n",
      "\t\n",
      "\t\\#\\# \n",
      "\t<!-- top marginalia -->\n",
      "\t\n",
      "\t\t<lb/>جناب <flag>عالیحضرتمولایم</flag> الله ظله\n",
      "\t\t<lb/>جناب شریعت و شرافت امارت و وزارتپناهان\n",
      "\t\t<lb/>دام عافیتکم\n",
      "\t\n",
      "\t\\#\\# \n",
      "\t<!-- vertical section -->\n",
      "\t<!-- beginning of honorific section -->\n",
      "\t\n",
      "\t\t<lb/>روزی و نصیب آنشریعت و شرافت و وزارتپناهان\n",
      "\t\t<lb/>رفعت و منزلت جایگاهان دولت و حکومت و دستگاهان\n",
      "\t\t<lb/>بوده باد بعد از اظهار مراهم دعا بوده میدارت که\n",
      "\t\t<lb/>الله الحمد و المنه بمهربانی و شرفدولت خداداد ؟ مراتب حالات\n",
      "\t\t<lb/>قرین شکر و رضا بوده همواره سلامتی و تعالی\n",
      "\t\t<lb/>و عافیت مندی آنمرحمت پناهان مراعات\n",
      "\t\n",
      "\t\\#\\# \n",
      "\t<!-- diagonal right section -->\n",
      "\t\n",
      "\t\t<lb/>بقیه السلام آنکه \n",
      "\t\t<lb/>آصف <flag>مقامانا</flag> چنانچه مهربانی خداندی\n",
      "\t\t<lb/>در کف های دعای از تحت رکوبی چیزی برامده همرنگ بدن ورم کرده \n",
      "\t<!-- beginning of content -->\n",
      "\t\t<lb/>مدت دوازده روز میشود که از پای ما مانده است که جنبانیده تا بواسته خواب گردیم\n",
      "\t\t<lb/>چندین حکیمها آمده دیده <flag>پاسخ</flag> علاجی کرده نتوانستند عین وقت خدمت دولتخانه عالی\n",
      "\t\t<lb/>میباشد بنابران بخذمت ذی شفرها شان ؟ ؟ ؟ شد که اگر مهربانی نموده\n",
      "\t\t<lb/>دختور را فرستانند آمده بیند شاید که خداوند عالی او را بشرف دعا و توجه جنابهاشان\n",
      "\t\t<lb/>؟ گردانیده دعای از ایندرو عافیت یافته زود تر در بالالی خذمت دولتخانه برایم\n",
      "\t\t<lb/>دیگر بدعا بوده از دعای اجابت قرینها شان امیدواریست زیاده آیام بکام ؟ دولت مدام باد باقی\n",
      "\t\t<lb/>السلام و الاکرام\n",
      "    </document>\n"
     ]
    },
    {
     "ename": "AttributeError",
     "evalue": "'NoneType' object has no attribute 'groups'",
     "output_type": "error",
     "traceback": [
      "\u001b[0;31m---------------------------------------------------------------------------\u001b[0m",
      "\u001b[0;31mAttributeError\u001b[0m                            Traceback (most recent call last)",
      "\u001b[0;32m<ipython-input-115-b52f002c29bb>\u001b[0m in \u001b[0;36m<module>\u001b[0;34m\u001b[0m\n\u001b[1;32m      1\u001b[0m \u001b[0;32mfor\u001b[0m \u001b[0mfilename\u001b[0m \u001b[0;32min\u001b[0m \u001b[0mos\u001b[0m\u001b[0;34m.\u001b[0m\u001b[0mlistdir\u001b[0m\u001b[0;34m(\u001b[0m\u001b[0mmd_path\u001b[0m\u001b[0;34m)\u001b[0m\u001b[0;34m:\u001b[0m\u001b[0;34m\u001b[0m\u001b[0;34m\u001b[0m\u001b[0m\n\u001b[1;32m      2\u001b[0m     \u001b[0;32mif\u001b[0m \u001b[0mfilename\u001b[0m\u001b[0;34m.\u001b[0m\u001b[0mendswith\u001b[0m\u001b[0;34m(\u001b[0m\u001b[0;34m\".txt\"\u001b[0m\u001b[0;34m)\u001b[0m \u001b[0;32mor\u001b[0m \u001b[0mfilename\u001b[0m\u001b[0;34m.\u001b[0m\u001b[0mendswith\u001b[0m\u001b[0;34m(\u001b[0m\u001b[0;34m\".md\"\u001b[0m\u001b[0;34m)\u001b[0m\u001b[0;34m:\u001b[0m\u001b[0;34m\u001b[0m\u001b[0;34m\u001b[0m\u001b[0m\n\u001b[0;32m----> 3\u001b[0;31m         \u001b[0mprint\u001b[0m \u001b[0;34m(\u001b[0m\u001b[0mpf\u001b[0m\u001b[0;34m.\u001b[0m\u001b[0mparse_md\u001b[0m\u001b[0;34m(\u001b[0m\u001b[0mfilename\u001b[0m\u001b[0;34m)\u001b[0m\u001b[0;34m)\u001b[0m\u001b[0;34m\u001b[0m\u001b[0;34m\u001b[0m\u001b[0m\n\u001b[0m",
      "\u001b[0;32m~/Projects/xml_development_eurasia/markdown_parser/parser_functions.py\u001b[0m in \u001b[0;36mparse_md\u001b[0;34m(input_file)\u001b[0m\n\u001b[1;32m     13\u001b[0m \u001b[0;34m\u001b[0m\u001b[0m\n\u001b[1;32m     14\u001b[0m \u001b[0;32mdef\u001b[0m \u001b[0mparse_md\u001b[0m \u001b[0;34m(\u001b[0m\u001b[0minput_file\u001b[0m\u001b[0;34m)\u001b[0m\u001b[0;34m:\u001b[0m\u001b[0;34m\u001b[0m\u001b[0;34m\u001b[0m\u001b[0m\n\u001b[0;32m---> 15\u001b[0;31m     \u001b[0;31m# Isolating the document serial number from the file name\u001b[0m\u001b[0;34m\u001b[0m\u001b[0;34m\u001b[0m\u001b[0;34m\u001b[0m\u001b[0m\n\u001b[0m\u001b[1;32m     16\u001b[0m     \u001b[0;32mif\u001b[0m \u001b[0;34m\".txt\"\u001b[0m \u001b[0;32min\u001b[0m \u001b[0minput_file\u001b[0m\u001b[0;34m:\u001b[0m\u001b[0;34m\u001b[0m\u001b[0;34m\u001b[0m\u001b[0m\n\u001b[1;32m     17\u001b[0m         \u001b[0mret\u001b[0m \u001b[0;34m=\u001b[0m \u001b[0mre\u001b[0m\u001b[0;34m.\u001b[0m\u001b[0mmatch\u001b[0m\u001b[0;34m(\u001b[0m\u001b[0;34mr'[^0-9]*([0-9]+)\\.txt'\u001b[0m\u001b[0;34m,\u001b[0m \u001b[0minput_file\u001b[0m\u001b[0;34m)\u001b[0m\u001b[0;34m\u001b[0m\u001b[0;34m\u001b[0m\u001b[0m\n",
      "\u001b[0;31mAttributeError\u001b[0m: 'NoneType' object has no attribute 'groups'"
     ]
    }
   ],
   "source": [
    "for filename in os.listdir(md_path):\n",
    "    if filename.endswith(\".txt\") or filename.endswith(\".md\"):\n",
    "        # (1): Switch to export directory\n",
    "        os.chdir(xml_path)\n",
    "        # (2): Exported filename\n",
    "        output_file = \"ser\" + pf.serial_no(filename) + \".xml\"\n",
    "        # (3): Send file\n",
    "        with open(output_file, 'w+') as fout:\n",
    "            fout.write(pf.parse_md('filename')\n",
    "        # (4): Move back to input directory\n",
    "        os.chdir(md_path)\n",
    "        # (5): Move active file to the archive folder\n",
    "        shutil.move(md_path/filename, archive_path + \"archived\" + filename)\n",
    "       "
   ]
  },
  {
   "cell_type": "code",
   "execution_count": 111,
   "metadata": {},
   "outputs": [],
   "source": [
    "output_file = 'parser_output.xml'\n",
    "with open(output_file, 'w+') as fout:\n",
    "    fout.write(pf.parse_md('ser560.txt'))"
   ]
  },
  {
   "cell_type": "code",
   "execution_count": 114,
   "metadata": {},
   "outputs": [
    {
     "ename": "AttributeError",
     "evalue": "'NoneType' object has no attribute 'groups'",
     "output_type": "error",
     "traceback": [
      "\u001b[0;31m---------------------------------------------------------------------------\u001b[0m",
      "\u001b[0;31mAttributeError\u001b[0m                            Traceback (most recent call last)",
      "\u001b[0;32m<ipython-input-114-9fd885c09e5d>\u001b[0m in \u001b[0;36m<module>\u001b[0;34m\u001b[0m\n\u001b[0;32m----> 1\u001b[0;31m \u001b[0mpf\u001b[0m\u001b[0;34m.\u001b[0m\u001b[0mparse_md\u001b[0m\u001b[0;34m(\u001b[0m\u001b[0;34m'ser72.md'\u001b[0m\u001b[0;34m)\u001b[0m\u001b[0;34m\u001b[0m\u001b[0;34m\u001b[0m\u001b[0m\n\u001b[0m",
      "\u001b[0;32m~/Projects/xml_development_eurasia/markdown_parser/parser_functions.py\u001b[0m in \u001b[0;36mparse_md\u001b[0;34m(input_file)\u001b[0m\n\u001b[1;32m     13\u001b[0m \u001b[0;34m\u001b[0m\u001b[0m\n\u001b[1;32m     14\u001b[0m \u001b[0;32mdef\u001b[0m \u001b[0mparse_md\u001b[0m \u001b[0;34m(\u001b[0m\u001b[0minput_file\u001b[0m\u001b[0;34m)\u001b[0m\u001b[0;34m:\u001b[0m\u001b[0;34m\u001b[0m\u001b[0;34m\u001b[0m\u001b[0m\n\u001b[0;32m---> 15\u001b[0;31m     \u001b[0;31m# Isolating the document serial number from the file name\u001b[0m\u001b[0;34m\u001b[0m\u001b[0;34m\u001b[0m\u001b[0;34m\u001b[0m\u001b[0m\n\u001b[0m\u001b[1;32m     16\u001b[0m     \u001b[0;32mif\u001b[0m \u001b[0;34m\".txt\"\u001b[0m \u001b[0;32min\u001b[0m \u001b[0minput_file\u001b[0m\u001b[0;34m:\u001b[0m\u001b[0;34m\u001b[0m\u001b[0;34m\u001b[0m\u001b[0m\n\u001b[1;32m     17\u001b[0m         \u001b[0mret\u001b[0m \u001b[0;34m=\u001b[0m \u001b[0mre\u001b[0m\u001b[0;34m.\u001b[0m\u001b[0mmatch\u001b[0m\u001b[0;34m(\u001b[0m\u001b[0;34mr'[^0-9]*([0-9]+)\\.txt'\u001b[0m\u001b[0;34m,\u001b[0m \u001b[0minput_file\u001b[0m\u001b[0;34m)\u001b[0m\u001b[0;34m\u001b[0m\u001b[0;34m\u001b[0m\u001b[0m\n",
      "\u001b[0;31mAttributeError\u001b[0m: 'NoneType' object has no attribute 'groups'"
     ]
    }
   ],
   "source": [
    "pf.parse_md('ser72.md')"
   ]
  },
  {
   "cell_type": "code",
   "execution_count": 109,
   "metadata": {},
   "outputs": [
    {
     "data": {
      "text/plain": [
       "'ser72.md'"
      ]
     },
     "execution_count": 109,
     "metadata": {},
     "output_type": "execute_result"
    }
   ],
   "source": [
    "os.listdir(md_path)[5]\n"
   ]
  },
  {
   "cell_type": "code",
   "execution_count": 107,
   "metadata": {},
   "outputs": [],
   "source": [
    "    if \".txt\" in os.listdir(md_path)[5]:\n",
    "        ret = re.match(r'[^0-9]*([0-9]+)\\.txt', os.listdir(md_path)[5])\n",
    "        doc_serial, = ret.groups()\n",
    "        doc_serial_xml = '<document serial = \"' + doc_serial + '\">'\n",
    "    else:\n",
    "        ret = re.match(r'[^0-9]*([0-9]+)\\.md', os.listdir(md_path)[5])\n",
    "        doc_serial, = ret.groups()\n",
    "        doc_serial_xml = '<document serial = \"' + doc_serial + '\">'"
   ]
  },
  {
   "cell_type": "code",
   "execution_count": 108,
   "metadata": {},
   "outputs": [
    {
     "data": {
      "text/plain": [
       "'<document serial = \"72\">'"
      ]
     },
     "execution_count": 108,
     "metadata": {},
     "output_type": "execute_result"
    }
   ],
   "source": [
    "doc_serial_xml\n"
   ]
  },
  {
   "cell_type": "code",
   "execution_count": 125,
   "metadata": {},
   "outputs": [
    {
     "ename": "AttributeError",
     "evalue": "module 'parser_functions' has no attribute 'serial_no'",
     "output_type": "error",
     "traceback": [
      "\u001b[0;31m---------------------------------------------------------------------------\u001b[0m",
      "\u001b[0;31mAttributeError\u001b[0m                            Traceback (most recent call last)",
      "\u001b[0;32m<ipython-input-125-db2e832d0d9d>\u001b[0m in \u001b[0;36m<module>\u001b[0;34m\u001b[0m\n\u001b[0;32m----> 1\u001b[0;31m \u001b[0mpf\u001b[0m\u001b[0;34m.\u001b[0m\u001b[0mserial_no\u001b[0m\u001b[0;34m(\u001b[0m\u001b[0;34m\"ser_92\"\u001b[0m\u001b[0;34m)\u001b[0m\u001b[0;34m\u001b[0m\u001b[0;34m\u001b[0m\u001b[0m\n\u001b[0m",
      "\u001b[0;31mAttributeError\u001b[0m: module 'parser_functions' has no attribute 'serial_no'"
     ]
    }
   ],
   "source": [
    "pf.serial_no(\"ser_92\")"
   ]
  },
  {
   "cell_type": "code",
   "execution_count": null,
   "metadata": {},
   "outputs": [],
   "source": []
  }
 ],
 "metadata": {
  "kernelspec": {
   "display_name": "Python 3",
   "language": "python",
   "name": "python3"
  },
  "language_info": {
   "codemirror_mode": {
    "name": "ipython",
    "version": 3
   },
   "file_extension": ".py",
   "mimetype": "text/x-python",
   "name": "python",
   "nbconvert_exporter": "python",
   "pygments_lexer": "ipython3",
   "version": "3.7.4"
  }
 },
 "nbformat": 4,
 "nbformat_minor": 2
}
