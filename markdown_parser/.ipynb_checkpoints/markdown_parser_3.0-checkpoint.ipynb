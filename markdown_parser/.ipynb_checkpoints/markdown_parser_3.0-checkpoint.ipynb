{
 "cells": [
  {
   "cell_type": "markdown",
   "metadata": {},
   "source": [
    "# Custom Markdown Parser\n",
    "\n",
    "Inputs markdown, outputs XML based on a custom schema using regex."
   ]
  },
  {
   "cell_type": "markdown",
   "metadata": {},
   "source": [
    "Next steps:\n",
    "- Code batch processing (i.e. open all files in one directory, output to another).\n",
    "- Automate transfer of process files to new directory to simplify workflow."
   ]
  },
  {
   "cell_type": "code",
   "execution_count": 196,
   "metadata": {},
   "outputs": [],
   "source": [
    "# Notes on Version 2 (From General Hanley):\n",
    "\n",
    "# Advocates transcending the \"line-by-line approach\":\n",
    "# If you give re.sub the flags=re.MULTILINE option, then ^ and $ will match the\n",
    "# beginning and end of lines, rather than the whole string. That way you\n",
    "# can do it for the whole file at once. This should in principle be faster too."
   ]
  },
  {
   "cell_type": "code",
   "execution_count": 1,
   "metadata": {},
   "outputs": [],
   "source": [
    "import re, os, os.path, shutil\n",
    "\n",
    "# custom functions:\n",
    "import parser_functions as pf"
   ]
  },
  {
   "cell_type": "markdown",
   "metadata": {},
   "source": [
    "### File Paths"
   ]
  },
  {
   "cell_type": "markdown",
   "metadata": {},
   "source": [
    "Nice [[explanation of using the os library]](https://automatetheboringstuff.com/chapter8/)."
   ]
  },
  {
   "cell_type": "code",
   "execution_count": 4,
   "metadata": {},
   "outputs": [
    {
     "name": "stdout",
     "output_type": "stream",
     "text": [
      "Files currently in input folder  /Users/kribblesworth/Box/Notes/Primary_Sources :\n"
     ]
    },
    {
     "data": {
      "text/plain": [
       "['archive_docs_now_at_xml_stage_do_not_use',\n",
       " 'document_conversion_backlog',\n",
       " 'parser_output.xml',\n",
       " 'ser560.txt',\n",
       " 'ser560.xml',\n",
       " 'ser72.md',\n",
       " 'ser808.md',\n",
       " 'ser809.md',\n",
       " 'ser811.md',\n",
       " 'ser812.md',\n",
       " 'ser813.md',\n",
       " 'ser814.md',\n",
       " 'ser815.md',\n",
       " 'ser816.md',\n",
       " 'ser817.md',\n",
       " 'ser818.md',\n",
       " 'ser842.md',\n",
       " 'ser843.md',\n",
       " 'ser857.md',\n",
       " 'ser876.md',\n",
       " 'ser877.md']"
      ]
     },
     "execution_count": 4,
     "metadata": {},
     "output_type": "execute_result"
    }
   ],
   "source": [
    "# Input Folder\n",
    "hdir = os.path.expanduser('~')\n",
    "md_rel_path = \"/Box/Notes/Primary_Sources/transcription_markdown_drafting_stage1\"\n",
    "md_path = hdir + md_rel_path\n",
    "\n",
    "# Destination Folder\n",
    "xml_rel_path = r\"/Box/Notes/Primary_sources/xml_notes_stage2/parser_depository\"\n",
    "xml_path = hdir + xml_rel_path\n",
    "\n",
    "# Folder to archive old Markdown files\n",
    "archive_rel_path = \"/Box/Notes/Primary_Sources/transcription_markdown_drafting_stage1/archive_docs_now_at_xml_stage_do_not_use\"\n",
    "archive_path = hdir + archive_rel_path\n",
    "\n",
    "print (\"Files currently in input folder \", os.path.dirname(md_path), \":\")\n",
    "os.listdir(md_path)\n"
   ]
  },
  {
   "cell_type": "code",
   "execution_count": 4,
   "metadata": {
    "scrolled": false
   },
   "outputs": [
    {
     "name": "stdout",
     "output_type": "stream",
     "text": [
      "Files currently in destination folder  /Users/kribblesworth/Box/Notes/Primary_sources/xml_notes_stage2 :\n"
     ]
    },
    {
     "data": {
      "text/plain": [
       "[]"
      ]
     },
     "execution_count": 4,
     "metadata": {},
     "output_type": "execute_result"
    }
   ],
   "source": [
    "# Minor: note that os.path.dirname lists the name of the parent folder, not the targeted one\n",
    "print (\"Files currently in destination folder \", os.path.dirname(xml_path), \":\")\n",
    "\n",
    "os.listdir(xml_path)"
   ]
  },
  {
   "cell_type": "markdown",
   "metadata": {},
   "source": [
    "## The Parser"
   ]
  },
  {
   "cell_type": "code",
   "execution_count": 11,
   "metadata": {},
   "outputs": [
    {
     "name": "stdout",
     "output_type": "stream",
     "text": [
      "<?xml-model href=\"../../../../../Projects/xml_development_eurasia/schemas/persian_documents_schema_basic.rnc\" type=\"application/relax-ng-compact-syntax\"?>\n",
      "    <document serial = \"72\">\n",
      "    \t<?xml-model href=\"/Users/Enkidu/Documents/digital_humanities/xml_development/schemas/persian_documents_schema_basic.rnc\" type=\"application/relax-ng-compact-syntax\"?>\n",
      "\t    <document serial = \"560\">\n",
      "\t    \t\n",
      "\t\t<div> \n",
      "\t\t\n",
      "\t\t\n",
      "\t\t<!-- Model MarkDown document with new schema. -->\n",
      "\t\t\n",
      "\t\t\\# \n",
      "\t\t\n",
      "\t\t\\#\\# \n",
      "\t\t<!-- top marginalia -->\n",
      "\t\t\n",
      "\t\t\t<lb/>جناب <flag>عالیحضرتمولایم</flag> الله ظله\n",
      "\t\t\t<lb/>جناب شریعت و شرافت امارت و وزارتپناهان\n",
      "\t\t\t<lb/>دام عافیتکم\n",
      "\t\t\n",
      "\t\t\\#\\# \n",
      "\t\t<!-- vertical section -->\n",
      "\t\t<!-- beginning of honorific section -->\n",
      "\t\t\n",
      "\t\t\t<lb/>روزی و نصیب آنشریعت و شرافت و وزارتپناهان\n",
      "\t\t\t<lb/>رفعت و منزلت جایگاهان دولت و حکومت و دستگاهان\n",
      "\t\t\t<lb/>بوده باد بعد از اظهار مراهم دعا بوده میدارت که\n",
      "\t\t\t<lb/>الله الحمد و المنه بمهربانی و شرفدولت خداداد ؟ مراتب حالات\n",
      "\t\t\t<lb/>قرین شکر و رضا بوده همواره سلامتی و تعالی\n",
      "\t\t\t<lb/>و عافیت مندی آنمرحمت پناهان مراعات\n",
      "\t\t\n",
      "\t\t\\#\\# \n",
      "\t\t<!-- diagonal right section -->\n",
      "\t\t\n",
      "\t\t\t<lb/>بقیه السلام آنکه \n",
      "\t\t\t<lb/>آصف <flag>مقامانا</flag> چنانچه مهربانی خداندی\n",
      "\t\t\t<lb/>در کف های دعای از تحت رکوبی چیزی برامده همرنگ بدن ورم کرده \n",
      "\t\t<!-- beginning of content -->\n",
      "\t\t\t<lb/>مدت دوازده روز میشود که از پای ما مانده است که جنبانیده تا بواسته خواب گردیم\n",
      "\t\t\t<lb/>چندین حکیمها آمده دیده <flag>پاسخ</flag> علاجی کرده نتوانستند عین وقت خدمت دولتخانه عالی\n",
      "\t\t\t<lb/>میباشد بنابران بخذمت ذی شفرها شان ؟ ؟ ؟ شد که اگر مهربانی نموده\n",
      "\t\t\t<lb/>دختور را فرستانند آمده بیند شاید که خداوند عالی او را بشرف دعا و توجه جنابهاشان\n",
      "\t\t\t<lb/>؟ گردانیده دعای از ایندرو عافیت یافته زود تر در بالالی خذمت دولتخانه برایم\n",
      "\t\t\t<lb/>دیگر بدعا بوده از دعای اجابت قرینها شان امیدواریست زیاده آیام بکام ؟ دولت مدام باد باقی\n",
      "\t\t\t<lb/>السلام و الاکرام\n",
      "\t    </document>\n",
      "    </document>\n"
     ]
    }
   ],
   "source": [
    "# Making sure in correct directory:\n",
    "os.chdir(md_path)\n",
    "\n",
    "# Test if it is all functioning properly:\n",
    "print (pf.parse_md(os.listdir(md_path)[5]))\n"
   ]
  },
  {
   "cell_type": "markdown",
   "metadata": {},
   "source": [
    "### Run parser on every file in the input directory, copy to output directory"
   ]
  },
  {
   "cell_type": "code",
   "execution_count": 5,
   "metadata": {},
   "outputs": [],
   "source": [
    "for filename in os.listdir(md_path):\n",
    "    if filename.endswith(\".txt\") or filename.endswith(\".md\"):\n",
    "        # Make sure in input directory\n",
    "        os.chdir(md_path)\n",
    "\n",
    "        # Export filename\n",
    "        output_file = \"ser\" + pf.serial_no(filename) + \".xml\"\n",
    "        \n",
    "        # MD parsed into XML text for output\n",
    "        output_text = pf.parse_md(filename)\n",
    "        \n",
    "        # Send file\n",
    "        with open(xml_path + \"/\" + output_file, 'w+') as fout:\n",
    "            fout.write(output_text)\n",
    "            \n",
    "        # Archived filename\n",
    "        archive_file = \"archived_no\" + pf.serial_no(filename) + \".txt\"\n",
    "                       \n",
    "        # Move active file to the archive folder\n",
    "        shutil.move(md_path + \"/\" + filename, archive_path + \"/\" + archive_file)\n",
    "       "
   ]
  },
  {
   "cell_type": "code",
   "execution_count": null,
   "metadata": {},
   "outputs": [],
   "source": []
  }
 ],
 "metadata": {
  "kernelspec": {
   "display_name": "Python 3",
   "language": "python",
   "name": "python3"
  },
  "language_info": {
   "codemirror_mode": {
    "name": "ipython",
    "version": 3
   },
   "file_extension": ".py",
   "mimetype": "text/x-python",
   "name": "python",
   "nbconvert_exporter": "python",
   "pygments_lexer": "ipython3",
   "version": "3.7.4"
  }
 },
 "nbformat": 4,
 "nbformat_minor": 2
}
